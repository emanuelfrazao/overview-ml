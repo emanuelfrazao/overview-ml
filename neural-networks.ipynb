{
 "cells": [
  {
   "cell_type": "markdown",
   "metadata": {},
   "source": [
    "# Neural networks"
   ]
  },
  {
   "cell_type": "markdown",
   "metadata": {},
   "source": [
    "## overview"
   ]
  },
  {
   "cell_type": "markdown",
   "metadata": {},
   "source": [
    "1. Basic concepts\n",
    "2. Training a network\n",
    "3. Specialized layers"
   ]
  },
  {
   "cell_type": "markdown",
   "metadata": {},
   "source": [
    "#### a) basic concepts"
   ]
  },
  {
   "cell_type": "markdown",
   "metadata": {},
   "source": [
    "- **unit**: linear regression and activation function\n",
    "- **activation**: (ReLU, sigmoid, tanh, softmax)\n",
    "- **layer**: a collection of units\n",
    "- **architecture**: the whole thing\n"
   ]
  },
  {
   "cell_type": "markdown",
   "metadata": {},
   "source": [
    "### 1. simplest nn"
   ]
  },
  {
   "cell_type": "code",
   "execution_count": 14,
   "metadata": {},
   "outputs": [],
   "source": [
    "import numpy as np\n",
    "import pandas as pd\n",
    "import matplotlib.pyplot as plt\n",
    "import seaborn as sns\n",
    "import tensorflow as tf"
   ]
  },
  {
   "cell_type": "code",
   "execution_count": 26,
   "metadata": {},
   "outputs": [
    {
     "data": {
      "text/plain": [
       "((8000, 10), (8000,))"
      ]
     },
     "execution_count": 26,
     "metadata": {},
     "output_type": "execute_result"
    }
   ],
   "source": [
    "X = np.random.normal(0, 1, (10000, 10))\n",
    "y = X.max(axis=1)\n",
    "\n",
    "from sklearn.model_selection import train_test_split\n",
    "\n",
    "X_train, X_test, y_train, y_test = train_test_split(X, y, test_size=.2)\n",
    "X_train.shape, y_train.shape"
   ]
  },
  {
   "cell_type": "code",
   "execution_count": 39,
   "metadata": {},
   "outputs": [
    {
     "data": {
      "text/html": [
       "<style>#sk-container-id-5 {color: black;}#sk-container-id-5 pre{padding: 0;}#sk-container-id-5 div.sk-toggleable {background-color: white;}#sk-container-id-5 label.sk-toggleable__label {cursor: pointer;display: block;width: 100%;margin-bottom: 0;padding: 0.3em;box-sizing: border-box;text-align: center;}#sk-container-id-5 label.sk-toggleable__label-arrow:before {content: \"▸\";float: left;margin-right: 0.25em;color: #696969;}#sk-container-id-5 label.sk-toggleable__label-arrow:hover:before {color: black;}#sk-container-id-5 div.sk-estimator:hover label.sk-toggleable__label-arrow:before {color: black;}#sk-container-id-5 div.sk-toggleable__content {max-height: 0;max-width: 0;overflow: hidden;text-align: left;background-color: #f0f8ff;}#sk-container-id-5 div.sk-toggleable__content pre {margin: 0.2em;color: black;border-radius: 0.25em;background-color: #f0f8ff;}#sk-container-id-5 input.sk-toggleable__control:checked~div.sk-toggleable__content {max-height: 200px;max-width: 100%;overflow: auto;}#sk-container-id-5 input.sk-toggleable__control:checked~label.sk-toggleable__label-arrow:before {content: \"▾\";}#sk-container-id-5 div.sk-estimator input.sk-toggleable__control:checked~label.sk-toggleable__label {background-color: #d4ebff;}#sk-container-id-5 div.sk-label input.sk-toggleable__control:checked~label.sk-toggleable__label {background-color: #d4ebff;}#sk-container-id-5 input.sk-hidden--visually {border: 0;clip: rect(1px 1px 1px 1px);clip: rect(1px, 1px, 1px, 1px);height: 1px;margin: -1px;overflow: hidden;padding: 0;position: absolute;width: 1px;}#sk-container-id-5 div.sk-estimator {font-family: monospace;background-color: #f0f8ff;border: 1px dotted black;border-radius: 0.25em;box-sizing: border-box;margin-bottom: 0.5em;}#sk-container-id-5 div.sk-estimator:hover {background-color: #d4ebff;}#sk-container-id-5 div.sk-parallel-item::after {content: \"\";width: 100%;border-bottom: 1px solid gray;flex-grow: 1;}#sk-container-id-5 div.sk-label:hover label.sk-toggleable__label {background-color: #d4ebff;}#sk-container-id-5 div.sk-serial::before {content: \"\";position: absolute;border-left: 1px solid gray;box-sizing: border-box;top: 0;bottom: 0;left: 50%;z-index: 0;}#sk-container-id-5 div.sk-serial {display: flex;flex-direction: column;align-items: center;background-color: white;padding-right: 0.2em;padding-left: 0.2em;position: relative;}#sk-container-id-5 div.sk-item {position: relative;z-index: 1;}#sk-container-id-5 div.sk-parallel {display: flex;align-items: stretch;justify-content: center;background-color: white;position: relative;}#sk-container-id-5 div.sk-item::before, #sk-container-id-5 div.sk-parallel-item::before {content: \"\";position: absolute;border-left: 1px solid gray;box-sizing: border-box;top: 0;bottom: 0;left: 50%;z-index: -1;}#sk-container-id-5 div.sk-parallel-item {display: flex;flex-direction: column;z-index: 1;position: relative;background-color: white;}#sk-container-id-5 div.sk-parallel-item:first-child::after {align-self: flex-end;width: 50%;}#sk-container-id-5 div.sk-parallel-item:last-child::after {align-self: flex-start;width: 50%;}#sk-container-id-5 div.sk-parallel-item:only-child::after {width: 0;}#sk-container-id-5 div.sk-dashed-wrapped {border: 1px dashed gray;margin: 0 0.4em 0.5em 0.4em;box-sizing: border-box;padding-bottom: 0.4em;background-color: white;}#sk-container-id-5 div.sk-label label {font-family: monospace;font-weight: bold;display: inline-block;line-height: 1.2em;}#sk-container-id-5 div.sk-label-container {text-align: center;}#sk-container-id-5 div.sk-container {/* jupyter's `normalize.less` sets `[hidden] { display: none; }` but bootstrap.min.css set `[hidden] { display: none !important; }` so we also need the `!important` here to be able to override the default hidden behavior on the sphinx rendered scikit-learn.org. See: https://github.com/scikit-learn/scikit-learn/issues/21755 */display: inline-block !important;position: relative;}#sk-container-id-5 div.sk-text-repr-fallback {display: none;}</style><div id=\"sk-container-id-5\" class=\"sk-top-container\"><div class=\"sk-text-repr-fallback\"><pre>SVR(kernel=&#x27;linear&#x27;)</pre><b>In a Jupyter environment, please rerun this cell to show the HTML representation or trust the notebook. <br />On GitHub, the HTML representation is unable to render, please try loading this page with nbviewer.org.</b></div><div class=\"sk-container\" hidden><div class=\"sk-item\"><div class=\"sk-estimator sk-toggleable\"><input class=\"sk-toggleable__control sk-hidden--visually\" id=\"sk-estimator-id-5\" type=\"checkbox\" checked><label for=\"sk-estimator-id-5\" class=\"sk-toggleable__label sk-toggleable__label-arrow\">SVR</label><div class=\"sk-toggleable__content\"><pre>SVR(kernel=&#x27;linear&#x27;)</pre></div></div></div></div></div>"
      ],
      "text/plain": [
       "SVR(kernel='linear')"
      ]
     },
     "execution_count": 39,
     "metadata": {},
     "output_type": "execute_result"
    }
   ],
   "source": [
    "from sklearn.neighbors import KNeighborsRegressor\n",
    "from sklearn.linear_model import LinearRegression\n",
    "from sklearn.tree import DecisionTreeRegressor\n",
    "from sklearn.svm import SVR\n",
    "\n",
    "\n",
    "from sklearn.ensemble import RandomForestRegressor, GradientBoostingRegressor\n",
    "from sklearn.metrics import mean_absolute_error\n",
    "\n",
    "\n",
    "model = SVR(kernel='linear')\n",
    "model.fit(X_train, y_train)"
   ]
  },
  {
   "cell_type": "code",
   "execution_count": 40,
   "metadata": {},
   "outputs": [],
   "source": [
    "y_pred = model.predict(X_test)"
   ]
  },
  {
   "cell_type": "code",
   "execution_count": null,
   "metadata": {},
   "outputs": [],
   "source": [
    "mean_absolute_error(y_test, )"
   ]
  },
  {
   "cell_type": "code",
   "execution_count": 16,
   "metadata": {},
   "outputs": [],
   "source": [
    "from keras import Sequential, layers"
   ]
  },
  {
   "cell_type": "code",
   "execution_count": 42,
   "metadata": {},
   "outputs": [
    {
     "name": "stdout",
     "output_type": "stream",
     "text": [
      "Epoch 1/10\n",
      "250/250 [==============================] - 0s 290us/step - loss: 1.3366\n",
      "Epoch 2/10\n",
      "250/250 [==============================] - 0s 267us/step - loss: 0.3440\n",
      "Epoch 3/10\n",
      "250/250 [==============================] - 0s 267us/step - loss: 0.3004\n",
      "Epoch 4/10\n",
      "250/250 [==============================] - 0s 376us/step - loss: 0.2775\n",
      "Epoch 5/10\n",
      "250/250 [==============================] - 0s 270us/step - loss: 0.2638\n",
      "Epoch 6/10\n",
      "250/250 [==============================] - 0s 263us/step - loss: 0.2554\n",
      "Epoch 7/10\n",
      "250/250 [==============================] - 0s 262us/step - loss: 0.2483\n",
      "Epoch 8/10\n",
      "250/250 [==============================] - 0s 373us/step - loss: 0.2412\n",
      "Epoch 9/10\n",
      "250/250 [==============================] - 0s 268us/step - loss: 0.2341\n",
      "Epoch 10/10\n",
      "250/250 [==============================] - 0s 266us/step - loss: 0.2269\n",
      "63/63 [==============================] - 0s 258us/step\n"
     ]
    },
    {
     "data": {
      "text/plain": [
       "0.37305952995854225"
      ]
     },
     "execution_count": 42,
     "metadata": {},
     "output_type": "execute_result"
    }
   ],
   "source": [
    "# 1. Define the model architecture (select the model, define the hyperparameters)\n",
    "#     - What about the last layer? – needs to take into consideration the problem\n",
    "model = Sequential([\n",
    "    layers.Dense(8, activation='tanh', input_shape=(10,)),\n",
    "    layers.Dense(8, activation='tanh'),\n",
    "    layers.Dense(1, activation='linear')\n",
    "])\n",
    "\n",
    "# 2. Set up the optimizer (algorithm to update the parameters) and the loss function\n",
    "\n",
    "model.compile(optimizer='adam', loss='mse')\n",
    "\n",
    "# 3. Train the model (fit the model to the training data) – find the best parameters\n",
    "model.fit(X_train, y_train, \n",
    "          epochs=10, \n",
    "          batch_size=32)\n",
    "\n",
    "# 4. Evaluate the model on the test data\n",
    "mean_absolute_error(y_test, model.predict(X_test))"
   ]
  },
  {
   "cell_type": "code",
   "execution_count": 17,
   "metadata": {},
   "outputs": [],
   "source": [
    "layer = layers.Dense(4)"
   ]
  },
  {
   "cell_type": "code",
   "execution_count": null,
   "metadata": {},
   "outputs": [],
   "source": [
    "layer(X)"
   ]
  },
  {
   "cell_type": "markdown",
   "metadata": {},
   "source": [
    "### 2. training a nn"
   ]
  },
  {
   "cell_type": "markdown",
   "metadata": {},
   "source": [
    "Important concepts:\n",
    "- **loss** function\n",
    "- **optimizer**:\n",
    "    - gradient descent\n",
    "    - the best ones use momentum\n",
    "        - Adagrad\n",
    "        - RMSProp (best for RNNs)\n",
    "        - Adamn (2014) (best for most cases)\n",
    "- optimizer hyperparameters:\n",
    "    - **learning rate**\n",
    "    - **momentum** coefficients (beta1, beta2)\n",
    "- training hyperparameters:\n",
    "    - **epochs** – doesn't matter, as many as we need\n",
    "    - **batch size**:\n",
    "        - it means: how many samples do we use to calculate the gradient – and update the parameters\n",
    "        - consequences:\n",
    "            - smaller batch size:\n",
    "                - faster convergence (wrt the number of epochs)\n",
    "                - more stochastic (different batches \"say\" to update the parameters in different directions)\n",
    "            - bigger batch size:\n",
    "                - faster training (if you big GPU's – because of parallelization of matrix operations)\n",
    "\n"
   ]
  },
  {
   "cell_type": "code",
   "execution_count": 43,
   "metadata": {},
   "outputs": [],
   "source": [
    "from keras.optimizers import Adam, RMSprop, Adagrad, SGD"
   ]
  },
  {
   "cell_type": "code",
   "execution_count": 49,
   "metadata": {},
   "outputs": [
    {
     "name": "stdout",
     "output_type": "stream",
     "text": [
      "Epoch 1/20\n",
      "200/200 [==============================] - 0s 662us/step - loss: 0.4262 - val_loss: 0.2512\n",
      "Epoch 2/20\n",
      "200/200 [==============================] - 0s 363us/step - loss: 0.2249 - val_loss: 0.2105\n",
      "Epoch 3/20\n",
      "200/200 [==============================] - 0s 368us/step - loss: 0.1960 - val_loss: 0.2108\n",
      "Epoch 4/20\n",
      "200/200 [==============================] - 0s 367us/step - loss: 0.1762 - val_loss: 0.1794\n",
      "Epoch 5/20\n",
      "200/200 [==============================] - 0s 483us/step - loss: 0.1590 - val_loss: 0.1685\n",
      "Epoch 6/20\n",
      "200/200 [==============================] - 0s 361us/step - loss: 0.1582 - val_loss: 0.1711\n",
      "Epoch 7/20\n",
      "200/200 [==============================] - 0s 361us/step - loss: 0.1512 - val_loss: 0.1646\n",
      "Epoch 8/20\n",
      "200/200 [==============================] - 0s 362us/step - loss: 0.1506 - val_loss: 0.1659\n",
      "Epoch 9/20\n",
      "200/200 [==============================] - 0s 511us/step - loss: 0.1526 - val_loss: 0.1625\n",
      "Epoch 10/20\n",
      "200/200 [==============================] - 0s 377us/step - loss: 0.1482 - val_loss: 0.1639\n",
      "Epoch 11/20\n",
      "200/200 [==============================] - 0s 372us/step - loss: 0.1508 - val_loss: 0.1650\n",
      "Epoch 12/20\n",
      "200/200 [==============================] - 0s 365us/step - loss: 0.1482 - val_loss: 0.1590\n",
      "Epoch 13/20\n",
      "200/200 [==============================] - 0s 366us/step - loss: 0.1451 - val_loss: 0.1678\n",
      "Epoch 14/20\n",
      "200/200 [==============================] - 0s 365us/step - loss: 0.1485 - val_loss: 0.1789\n",
      "Epoch 15/20\n",
      "200/200 [==============================] - 0s 375us/step - loss: 0.1480 - val_loss: 0.1583\n",
      "Epoch 16/20\n",
      "200/200 [==============================] - 0s 374us/step - loss: 0.1479 - val_loss: 0.1606\n",
      "Epoch 17/20\n",
      "200/200 [==============================] - 0s 360us/step - loss: 0.1492 - val_loss: 0.1613\n",
      "Epoch 18/20\n",
      "200/200 [==============================] - 0s 365us/step - loss: 0.1494 - val_loss: 0.1665\n",
      "Epoch 19/20\n",
      "200/200 [==============================] - 0s 398us/step - loss: 0.1445 - val_loss: 0.1627\n",
      "Epoch 20/20\n",
      "200/200 [==============================] - 0s 366us/step - loss: 0.1448 - val_loss: 0.1621\n"
     ]
    },
    {
     "data": {
      "text/plain": [
       "<matplotlib.legend.Legend at 0x29bde6980>"
      ]
     },
     "execution_count": 49,
     "metadata": {},
     "output_type": "execute_result"
    },
    {
     "data": {
      "image/png": "[encoded data removed]",
      "text/plain": [
       "<Figure size 640x480 with 1 Axes>"
      ]
     },
     "metadata": {},
     "output_type": "display_data"
    }
   ],
   "source": [
    "model = Sequential([\n",
    "    layers.Dense(8, activation='tanh', input_shape=(10,)),\n",
    "    layers.Dense(8, activation='tanh'),\n",
    "    layers.Dense(1, activation='linear')\n",
    "])\n",
    "\n",
    "# 2. Set up the optimizer (algorithm to update the parameters) and the loss function\n",
    "\n",
    "model.compile(optimizer=Adam(learning_rate=0.01), loss='mse')\n",
    "\n",
    "# 3. Train the model (fit the model to the training data) – find the best parameters\n",
    "history = model.fit(X_train, y_train,\n",
    "                    validation_split=0.2, \n",
    "                    epochs=20, \n",
    "                    batch_size=32,\n",
    "                    verbose=1)\n",
    "\n",
    "plt.plot(history.history['loss'])\n",
    "plt.plot(history.history['val_loss'])\n",
    "plt.legend(['train', 'validation'])"
   ]
  },
  {
   "cell_type": "markdown",
   "metadata": {},
   "source": [
    "Callbacks"
   ]
  },
  {
   "cell_type": "code",
   "execution_count": 50,
   "metadata": {},
   "outputs": [],
   "source": [
    "from keras.callbacks import EarlyStopping, ModelCheckpoint, TensorBoard"
   ]
  },
  {
   "cell_type": "code",
   "execution_count": 93,
   "metadata": {},
   "outputs": [],
   "source": [
    "def initialize_architecture():\n",
    "    return Sequential([\n",
    "        layers.Dense(8, activation='tanh', input_shape=(10,)),\n",
    "        layers.Dense(8, activation='tanh'),\n",
    "        layers.Dense(1, activation='linear')\n",
    "    ])"
   ]
  },
  {
   "cell_type": "code",
   "execution_count": 113,
   "metadata": {},
   "outputs": [
    {
     "data": {
      "text/plain": [
       "'2023-12-01_11-08-05'"
      ]
     },
     "execution_count": 113,
     "metadata": {},
     "output_type": "execute_result"
    }
   ],
   "source": [
    "from datetime import datetime\n",
    "\n",
    "def now():\n",
    "    return datetime.now().strftime('%Y-%m-%d_%H-%M-%S')\n",
    "\n",
    "now()"
   ]
  },
  {
   "cell_type": "code",
   "execution_count": 110,
   "metadata": {},
   "outputs": [
    {
     "name": "stdout",
     "output_type": "stream",
     "text": [
      "Epoch 1/20\n",
      "159/200 [======================>.......] - ETA: 0s - loss: 0.4806 INFO:tensorflow:Assets written to: checkpoints/basic/2023-12-01_11-04-53/assets\n",
      "200/200 [==============================] - 1s 2ms/step - loss: 0.4336 - val_loss: 0.2484\n",
      "Epoch 2/20\n",
      "177/200 [=========================>....] - ETA: 0s - loss: 0.2278INFO:tensorflow:Assets written to: checkpoints/basic/2023-12-01_11-04-53/assets\n",
      "200/200 [==============================] - 1s 4ms/step - loss: 0.2270 - val_loss: 0.2355\n",
      "Epoch 3/20\n",
      "116/200 [================>.............] - ETA: 0s - loss: 0.2080INFO:tensorflow:Assets written to: checkpoints/basic/2023-12-01_11-04-53/assets\n",
      "200/200 [==============================] - 0s 2ms/step - loss: 0.2029 - val_loss: 0.2053\n",
      "Epoch 4/20\n",
      "177/200 [=========================>....] - ETA: 0s - loss: 0.1804INFO:tensorflow:Assets written to: checkpoints/basic/2023-12-01_11-04-53/assets\n",
      "200/200 [==============================] - 0s 2ms/step - loss: 0.1825 - val_loss: 0.1971\n",
      "Epoch 5/20\n",
      " 78/200 [==========>...................] - ETA: 0s - loss: 0.1807INFO:tensorflow:Assets written to: checkpoints/basic/2023-12-01_11-04-53/assets\n",
      "200/200 [==============================] - 0s 2ms/step - loss: 0.1677 - val_loss: 0.1875\n",
      "Epoch 6/20\n",
      "173/200 [========================>.....] - ETA: 0s - loss: 0.1542INFO:tensorflow:Assets written to: checkpoints/basic/2023-12-01_11-04-53/assets\n",
      "200/200 [==============================] - 1s 3ms/step - loss: 0.1562 - val_loss: 0.1742\n",
      "Epoch 7/20\n",
      "181/200 [==========================>...] - ETA: 0s - loss: 0.1513INFO:tensorflow:Assets written to: checkpoints/basic/2023-12-01_11-04-53/assets\n",
      "200/200 [==============================] - 0s 2ms/step - loss: 0.1508 - val_loss: 0.1625\n",
      "Epoch 8/20\n",
      "179/200 [=========================>....] - ETA: 0s - loss: 0.1456INFO:tensorflow:Assets written to: checkpoints/basic/2023-12-01_11-04-53/assets\n",
      "200/200 [==============================] - 0s 2ms/step - loss: 0.1440 - val_loss: 0.1573\n",
      "Epoch 9/20\n",
      "200/200 [==============================] - 0s 453us/step - loss: 0.1425 - val_loss: 0.1725\n",
      "Epoch 10/20\n",
      "183/200 [==========================>...] - ETA: 0s - loss: 0.1370INFO:tensorflow:Assets written to: checkpoints/basic/2023-12-01_11-04-53/assets\n",
      "200/200 [==============================] - 1s 3ms/step - loss: 0.1377 - val_loss: 0.1519\n",
      "Epoch 11/20\n",
      "200/200 [==============================] - 0s 438us/step - loss: 0.1334 - val_loss: 0.1535\n",
      "Epoch 12/20\n",
      "185/200 [==========================>...] - ETA: 0s - loss: 0.1328INFO:tensorflow:Assets written to: checkpoints/basic/2023-12-01_11-04-53/assets\n",
      "200/200 [==============================] - 0s 2ms/step - loss: 0.1313 - val_loss: 0.1492\n",
      "Epoch 13/20\n",
      "184/200 [==========================>...] - ETA: 0s - loss: 0.1324INFO:tensorflow:Assets written to: checkpoints/basic/2023-12-01_11-04-53/assets\n",
      "200/200 [==============================] - 0s 2ms/step - loss: 0.1320 - val_loss: 0.1416\n",
      "Epoch 14/20\n",
      "200/200 [==============================] - 0s 463us/step - loss: 0.1280 - val_loss: 0.1474\n",
      "Epoch 15/20\n",
      "200/200 [==============================] - 0s 554us/step - loss: 0.1292 - val_loss: 0.1631\n",
      "Epoch 16/20\n",
      "181/200 [==========================>...] - ETA: 0s - loss: 0.1267INFO:tensorflow:Assets written to: checkpoints/basic/2023-12-01_11-04-53/assets\n",
      "200/200 [==============================] - 0s 2ms/step - loss: 0.1267 - val_loss: 0.1399\n",
      "Epoch 17/20\n",
      "200/200 [==============================] - 0s 663us/step - loss: 0.1254 - val_loss: 0.1475\n",
      "Epoch 18/20\n",
      "200/200 [==============================] - 0s 516us/step - loss: 0.1266 - val_loss: 0.1415\n",
      "Epoch 19/20\n",
      "185/200 [==========================>...] - ETA: 0s - loss: 0.1254INFO:tensorflow:Assets written to: checkpoints/basic/2023-12-01_11-04-53/assets\n",
      "200/200 [==============================] - 1s 4ms/step - loss: 0.1238 - val_loss: 0.1375\n",
      "Epoch 20/20\n",
      "200/200 [==============================] - 0s 451us/step - loss: 0.1240 - val_loss: 0.1403\n"
     ]
    },
    {
     "data": {
      "text/plain": [
       "<keras.callbacks.History at 0x2c8679780>"
      ]
     },
     "execution_count": 110,
     "metadata": {},
     "output_type": "execute_result"
    }
   ],
   "source": [
    "model = initialize_architecture()\n",
    "\n",
    "# 2. Set up the optimizer (algorithm to update the parameters) and the loss function\n",
    "\n",
    "model.compile(optimizer=Adam(learning_rate=0.01), loss='mse')\n",
    "\n",
    "# 3. Train the model (fit the model to the training data) – find the best parameters\n",
    "\n",
    "## 3.1. Set up the callbacks\n",
    "early_stopping = EarlyStopping(patience=5, restore_best_weights=True)\n",
    "checkpoint = ModelCheckpoint(f'checkpoints/basic/{now()}', save_best_only=True)\n",
    "tensorboard = TensorBoard(f'logs/basic/{now()}',\n",
    "                          histogram_freq=1,\n",
    "                          write_graph=True,\n",
    "                          write_images=True,\n",
    "                          update_freq='epoch')\n",
    "\n",
    "model.fit(X_train, y_train,\n",
    "          validation_split=0.2, \n",
    "          epochs=20, \n",
    "          batch_size=32,\n",
    "          callbacks=[early_stopping, checkpoint, tensorboard],\n",
    "          verbose=1)"
   ]
  },
  {
   "cell_type": "code",
   "execution_count": 96,
   "metadata": {},
   "outputs": [
    {
     "name": "stdout",
     "output_type": "stream",
     "text": [
      "63/63 [==============================] - 0s 323us/step - loss: 0.1482\n"
     ]
    },
    {
     "data": {
      "text/plain": [
       "0.1481897234916687"
      ]
     },
     "execution_count": 96,
     "metadata": {},
     "output_type": "execute_result"
    }
   ],
   "source": [
    "model.evaluate(X_test, y_test)"
   ]
  },
  {
   "cell_type": "code",
   "execution_count": 101,
   "metadata": {},
   "outputs": [
    {
     "name": "stdout",
     "output_type": "stream",
     "text": [
      "63/63 [==============================] - 0s 332us/step - loss: 2.9275\n"
     ]
    },
    {
     "data": {
      "text/plain": [
       "2.927513360977173"
      ]
     },
     "execution_count": 101,
     "metadata": {},
     "output_type": "execute_result"
    }
   ],
   "source": [
    "new_model = initialize_architecture()\n",
    "\n",
    "new_model.compile(loss='mse')\n",
    "new_model.evaluate(X_test, y_test)"
   ]
  },
  {
   "cell_type": "code",
   "execution_count": 100,
   "metadata": {},
   "outputs": [
    {
     "name": "stdout",
     "output_type": "stream",
     "text": [
      "63/63 [==============================] - 0s 358us/step - loss: 0.1431\n"
     ]
    },
    {
     "name": "stderr",
     "output_type": "stream",
     "text": [
      "2023-12-01 10:57:45.206002: W tensorflow/core/util/tensor_slice_reader.cc:96] Could not open checkpoints/basic/: FAILED_PRECONDITION: checkpoints/basic; Is a directory: perhaps your file is in a different file format and you need to use a different restore operator?\n"
     ]
    },
    {
     "data": {
      "text/plain": [
       "0.14312843978405"
      ]
     },
     "execution_count": 100,
     "metadata": {},
     "output_type": "execute_result"
    }
   ],
   "source": [
    "new_model = initialize_architecture()\n",
    "new_model.load_weights('checkpoints/basic/')\n",
    "\n",
    "new_model.compile(loss='mse')\n",
    "new_model.evaluate(X_test, y_test)"
   ]
  },
  {
   "cell_type": "code",
   "execution_count": null,
   "metadata": {},
   "outputs": [],
   "source": []
  },
  {
   "cell_type": "code",
   "execution_count": 88,
   "metadata": {},
   "outputs": [
    {
     "name": "stdout",
     "output_type": "stream",
     "text": [
      "Epoch 1/2\n",
      "200/200 [==============================] - 0s 444us/step - loss: 0.1430 - val_loss: 0.1552\n",
      "Epoch 2/2\n",
      "200/200 [==============================] - 0s 360us/step - loss: 0.1472 - val_loss: 0.1575\n"
     ]
    },
    {
     "data": {
      "text/plain": [
       "<keras.callbacks.History at 0x2a5f2bc70>"
      ]
     },
     "execution_count": 88,
     "metadata": {},
     "output_type": "execute_result"
    }
   ],
   "source": [
    "model.fit(X_train, y_train,\n",
    "          validation_split=0.2, \n",
    "          epochs=2, \n",
    "          batch_size=32,\n",
    "          verbose=1)"
   ]
  },
  {
   "cell_type": "markdown",
   "metadata": {},
   "source": [
    "### 3. specialized layers"
   ]
  },
  {
   "cell_type": "markdown",
   "metadata": {},
   "source": [
    "#### 3.1 convolution layers"
   ]
  },
  {
   "cell_type": "markdown",
   "metadata": {},
   "source": [
    "shift-invariance"
   ]
  },
  {
   "cell_type": "markdown",
   "metadata": {},
   "source": [
    "#### 3.2 recurrent layers"
   ]
  },
  {
   "cell_type": "markdown",
   "metadata": {},
   "source": [
    "time-invariance"
   ]
  },
  {
   "cell_type": "markdown",
   "metadata": {},
   "source": [
    "#### 3.3 attention layers"
   ]
  },
  {
   "cell_type": "code",
   "execution_count": null,
   "metadata": {},
   "outputs": [],
   "source": []
  },
  {
   "cell_type": "markdown",
   "metadata": {},
   "source": [
    "## example: text classification"
   ]
  },
  {
   "cell_type": "markdown",
   "metadata": {},
   "source": [
    "goal: **Classify emails as spam or not spam.**"
   ]
  },
  {
   "cell_type": "markdown",
   "metadata": {},
   "source": [
    "### 1. problem statement"
   ]
  },
  {
   "cell_type": "markdown",
   "metadata": {},
   "source": [
    "- what's the type of task?\n",
    "- how do we measure performance?"
   ]
  },
  {
   "cell_type": "markdown",
   "metadata": {},
   "source": [
    "### 2. setup"
   ]
  },
  {
   "cell_type": "code",
   "execution_count": 1,
   "metadata": {},
   "outputs": [],
   "source": [
    "import numpy as np\n",
    "import pandas as pd\n",
    "import matplotlib.pyplot as plt"
   ]
  },
  {
   "cell_type": "code",
   "execution_count": 8,
   "metadata": {},
   "outputs": [
    {
     "data": {
      "text/plain": [
       "((4582, 2), (1146, 2))"
      ]
     },
     "execution_count": 8,
     "metadata": {},
     "output_type": "execute_result"
    }
   ],
   "source": [
    "# get emails\n",
    "url_emails = \"https://wagon-public-datasets.s3.amazonaws.com/05-Machine-Learning/10-Natural-Language-Processing/ham_spam_emails.csv\"\n",
    "df = pd.read_csv(url_emails)\n",
    "\n",
    "# split into train and test\n",
    "from sklearn.model_selection import train_test_split\n",
    "df_train, df_test = train_test_split(df, test_size=0.2, random_state=42)\n",
    "df_train.shape, df_test.shape"
   ]
  },
  {
   "cell_type": "code",
   "execution_count": 9,
   "metadata": {},
   "outputs": [
    {
     "data": {
      "text/html": [
       "<div>\n",
       "<style scoped>\n",
       "    .dataframe tbody tr th:only-of-type {\n",
       "        vertical-align: middle;\n",
       "    }\n",
       "\n",
       "    .dataframe tbody tr th {\n",
       "        vertical-align: top;\n",
       "    }\n",
       "\n",
       "    .dataframe thead th {\n",
       "        text-align: right;\n",
       "    }\n",
       "</style>\n",
       "<table border=\"1\" class=\"dataframe\">\n",
       "  <thead>\n",
       "    <tr style=\"text-align: right;\">\n",
       "      <th></th>\n",
       "      <th>text</th>\n",
       "      <th>spam</th>\n",
       "    </tr>\n",
       "  </thead>\n",
       "  <tbody>\n",
       "    <tr>\n",
       "      <th>4860</th>\n",
       "      <td>Subject: re : request for payroll reclassifica...</td>\n",
       "      <td>0</td>\n",
       "    </tr>\n",
       "    <tr>\n",
       "      <th>1520</th>\n",
       "      <td>Subject: re : pending approval for ibuyit requ...</td>\n",
       "      <td>0</td>\n",
       "    </tr>\n",
       "    <tr>\n",
       "      <th>2083</th>\n",
       "      <td>Subject: congratulations !  hi vince :  i just...</td>\n",
       "      <td>0</td>\n",
       "    </tr>\n",
       "    <tr>\n",
       "      <th>527</th>\n",
       "      <td>Subject: secretly record all internet activity...</td>\n",
       "      <td>1</td>\n",
       "    </tr>\n",
       "    <tr>\n",
       "      <th>3113</th>\n",
       "      <td>Subject: interviews scheduled for monday , nov...</td>\n",
       "      <td>0</td>\n",
       "    </tr>\n",
       "  </tbody>\n",
       "</table>\n",
       "</div>"
      ],
      "text/plain": [
       "                                                   text  spam\n",
       "4860  Subject: re : request for payroll reclassifica...     0\n",
       "1520  Subject: re : pending approval for ibuyit requ...     0\n",
       "2083  Subject: congratulations !  hi vince :  i just...     0\n",
       "527   Subject: secretly record all internet activity...     1\n",
       "3113  Subject: interviews scheduled for monday , nov...     0"
      ]
     },
     "execution_count": 9,
     "metadata": {},
     "output_type": "execute_result"
    }
   ],
   "source": [
    "df_train.head()"
   ]
  },
  {
   "cell_type": "markdown",
   "metadata": {},
   "source": [
    "### 3. processing"
   ]
  },
  {
   "cell_type": "markdown",
   "metadata": {},
   "source": [
    "1. cleaning\n",
    "2. feature engineering\n",
    "3. preprocessing"
   ]
  },
  {
   "cell_type": "markdown",
   "metadata": {},
   "source": [
    "the steps depend on the model you want to use! – which possibilities?"
   ]
  },
  {
   "cell_type": "code",
   "execution_count": null,
   "metadata": {},
   "outputs": [],
   "source": [
    "from emails.preprocessing import EmailCleaner\n",
    "\n",
    "cleaner_extreme = EmailCleaner(remove_stopwords=True)\n",
    "\n",
    "cleaner_soft = EmailCleaner(remove_stopwords=False)"
   ]
  },
  {
   "cell_type": "markdown",
   "metadata": {},
   "source": [
    "### 4. modelling"
   ]
  },
  {
   "cell_type": "markdown",
   "metadata": {},
   "source": [
    "What models can we use?"
   ]
  },
  {
   "cell_type": "markdown",
   "metadata": {},
   "source": [
    "### 4.1 Bag-of-Words models"
   ]
  }
 ],
 "metadata": {
  "kernelspec": {
   "display_name": "lewagon",
   "language": "python",
   "name": "python3"
  },
  "language_info": {
   "codemirror_mode": {
    "name": "ipython",
    "version": 3
   },
   "file_extension": ".py",
   "mimetype": "text/x-python",
   "name": "python",
   "nbconvert_exporter": "python",
   "pygments_lexer": "ipython3",
   "version": "3.10.6"
  }
 },
 "nbformat": 4,
 "nbformat_minor": 2
}
